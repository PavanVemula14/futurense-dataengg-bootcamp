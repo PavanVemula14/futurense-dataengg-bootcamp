{
 "cells": [
  {
   "cell_type": "code",
   "execution_count": 26,
   "id": "19b46aef",
   "metadata": {},
   "outputs": [],
   "source": [
    "import findspark\n",
    "findspark.init()"
   ]
  },
  {
   "cell_type": "code",
   "execution_count": 27,
   "id": "92a0bdca",
   "metadata": {},
   "outputs": [],
   "source": [
    "from pyspark.sql import SparkSession"
   ]
  },
  {
   "cell_type": "code",
   "execution_count": 28,
   "id": "b0329b76",
   "metadata": {},
   "outputs": [],
   "source": [
    "spark = SparkSession.builder.appName('pyspark-broadcast').getOrCreate()"
   ]
  },
  {
   "cell_type": "code",
   "execution_count": 62,
   "id": "98ad600a",
   "metadata": {},
   "outputs": [],
   "source": [
    "countries = {'IND':\"India\",'AUS':\"Australia\", 'JPN':\"JAPAN\"}"
   ]
  },
  {
   "cell_type": "code",
   "execution_count": 63,
   "id": "c0dacf1e",
   "metadata": {},
   "outputs": [],
   "source": [
    "broadcast_countries = spark.sparkContext.broadcast(countries)"
   ]
  },
  {
   "cell_type": "code",
   "execution_count": 64,
   "id": "70546913",
   "metadata": {},
   "outputs": [],
   "source": [
    "data = [(100,'Debit',1000.0,'IND'),(101,\"Credit\",2000.0,'IND'),\n",
    "        (102,'Debit',3000.0,'AUS'),(103,'Credit',4000.0,'JPN'),\n",
    "        (104,'Debit',5000.0,'IND'),(105,'Credit',6000.0,'AUS')]"
   ]
  },
  {
   "cell_type": "code",
   "execution_count": 65,
   "id": "a0fb6bef",
   "metadata": {},
   "outputs": [],
   "source": [
    "rdd = spark.sparkContext.parallelize(data)"
   ]
  },
  {
   "cell_type": "code",
   "execution_count": 66,
   "id": "af5890b9",
   "metadata": {},
   "outputs": [
    {
     "data": {
      "text/plain": [
       "[(100, 'Debit', 1000.0, 'IND'),\n",
       " (101, 'Credit', 2000.0, 'IND'),\n",
       " (102, 'Debit', 3000.0, 'AUS'),\n",
       " (103, 'Credit', 4000.0, 'JPN'),\n",
       " (104, 'Debit', 5000.0, 'IND'),\n",
       " (105, 'Credit', 6000.0, 'AUS')]"
      ]
     },
     "execution_count": 66,
     "metadata": {},
     "output_type": "execute_result"
    }
   ],
   "source": [
    "rdd.collect()"
   ]
  },
  {
   "cell_type": "code",
   "execution_count": 67,
   "id": "592d82da",
   "metadata": {},
   "outputs": [],
   "source": [
    "def country_convert(code):\n",
    "    return broadcast_countries.value[code]"
   ]
  },
  {
   "cell_type": "code",
   "execution_count": 68,
   "id": "dea56212",
   "metadata": {},
   "outputs": [],
   "source": [
    "rdd1 = rdd.map(lambda x : (x[0], x[1], x[2], country_convert(x[3])))"
   ]
  },
  {
   "cell_type": "code",
   "execution_count": 69,
   "id": "ac8778b5",
   "metadata": {},
   "outputs": [
    {
     "data": {
      "text/plain": [
       "[(100, 'Debit', 1000.0, 'India'),\n",
       " (101, 'Credit', 2000.0, 'India'),\n",
       " (102, 'Debit', 3000.0, 'Australia'),\n",
       " (103, 'Credit', 4000.0, 'JAPAN'),\n",
       " (104, 'Debit', 5000.0, 'India'),\n",
       " (105, 'Credit', 6000.0, 'Australia')]"
      ]
     },
     "execution_count": 69,
     "metadata": {},
     "output_type": "execute_result"
    }
   ],
   "source": [
    "rdd1.collect()"
   ]
  },
  {
   "cell_type": "code",
   "execution_count": 70,
   "id": "4d077073",
   "metadata": {},
   "outputs": [],
   "source": [
    "rdd2 = rdd1.groupBy(lambda x : (x[1], x[3]))"
   ]
  },
  {
   "cell_type": "code",
   "execution_count": 71,
   "id": "ab249467",
   "metadata": {},
   "outputs": [
    {
     "data": {
      "text/plain": [
       "[(('Credit', 'JAPAN'),\n",
       "  <pyspark.resultiterable.ResultIterable at 0x2042c33b0a0>),\n",
       " (('Credit', 'Australia'),\n",
       "  <pyspark.resultiterable.ResultIterable at 0x2042c33a950>),\n",
       " (('Debit', 'India'),\n",
       "  <pyspark.resultiterable.ResultIterable at 0x2042c33a6e0>),\n",
       " (('Credit', 'India'),\n",
       "  <pyspark.resultiterable.ResultIterable at 0x2042c33ae90>),\n",
       " (('Debit', 'Australia'),\n",
       "  <pyspark.resultiterable.ResultIterable at 0x2042c33ad70>)]"
      ]
     },
     "execution_count": 71,
     "metadata": {},
     "output_type": "execute_result"
    }
   ],
   "source": [
    "rdd2.collect()"
   ]
  },
  {
   "cell_type": "code",
   "execution_count": 72,
   "id": "3486d4a8",
   "metadata": {},
   "outputs": [
    {
     "name": "stdout",
     "output_type": "stream",
     "text": [
      "[(('Credit', 'JAPAN'), [(103, 'Credit', 4000.0, 'JAPAN')])]\n"
     ]
    }
   ],
   "source": [
    "print([(i, list(j)) for (i, j) in rdd2.take(1)])"
   ]
  },
  {
   "cell_type": "code",
   "execution_count": 73,
   "id": "5ef1d00f",
   "metadata": {},
   "outputs": [],
   "source": [
    "rdd3 = rdd2.map(lambda x : (x[0], len(x[1])))"
   ]
  },
  {
   "cell_type": "code",
   "execution_count": 74,
   "id": "cc3d3ba9",
   "metadata": {},
   "outputs": [
    {
     "data": {
      "text/plain": [
       "[(('Credit', 'JAPAN'), 1),\n",
       " (('Credit', 'Australia'), 1),\n",
       " (('Debit', 'India'), 2),\n",
       " (('Credit', 'India'), 1),\n",
       " (('Debit', 'Australia'), 1)]"
      ]
     },
     "execution_count": 74,
     "metadata": {},
     "output_type": "execute_result"
    }
   ],
   "source": [
    "rdd3.collect()"
   ]
  },
  {
   "cell_type": "code",
   "execution_count": null,
   "id": "8d0ec5bf",
   "metadata": {},
   "outputs": [],
   "source": []
  }
 ],
 "metadata": {
  "kernelspec": {
   "display_name": "Python 3 (ipykernel)",
   "language": "python",
   "name": "python3"
  },
  "language_info": {
   "codemirror_mode": {
    "name": "ipython",
    "version": 3
   },
   "file_extension": ".py",
   "mimetype": "text/x-python",
   "name": "python",
   "nbconvert_exporter": "python",
   "pygments_lexer": "ipython3",
   "version": "3.10.9"
  }
 },
 "nbformat": 4,
 "nbformat_minor": 5
}
